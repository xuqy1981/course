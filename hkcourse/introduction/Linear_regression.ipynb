{
 "cells": [
  {
   "cell_type": "code",
   "execution_count": 1,
   "metadata": {},
   "outputs": [],
   "source": [
    "import os\n",
    "# os.environ['DEVICE_ID'] = '0'\n",
    "import numpy as np\n",
    "\n",
    "import mindspore as ms\n",
    "from mindspore import nn\n",
    "from mindspore import context\n",
    "\n",
    "context.set_context(mode=context.GRAPH_MODE, device_target=\"Ascend\")"
   ]
  },
  {
   "cell_type": "code",
   "execution_count": 2,
   "metadata": {},
   "outputs": [],
   "source": [
    "# Generating samples data based on a linear function and add a few perturbation\n",
    "x = np.arange(-5, 5, 0.3)[:32].reshape((32, 1))\n",
    "y = -5 * x +  0.1 * np.random.normal(loc=0.0, scale=20.0, size=x.shape)"
   ]
  },
  {
   "cell_type": "code",
   "execution_count": 3,
   "metadata": {},
   "outputs": [],
   "source": [
    "# Use nn.Dense(1, 1) operator provided by MindSpore as the linear model,\n",
    "# (1, 1) indicates that the input and output of the linear model are both 1 dimension,\n",
    "# y = w*x + b, w is a 1x1 matrix. The operator randomly initializes the weight w and offset b.\n",
    "# Use the mean squared error (MSE) as the loss function.\n",
    "# Use Stochastic Gradient Descent (SGD) to optimize the model.\n",
    "net = nn.Dense(1, 1)\n",
    "loss_fn = nn.loss.MSELoss()\n",
    "opt = nn.optim.SGD(net.trainable_params(), learning_rate=0.01)\n",
    "with_loss = nn.WithLossCell(net, loss_fn)\n",
    "train_step = nn.TrainOneStepCell(with_loss, opt).set_train()"
   ]
  },
  {
   "cell_type": "code",
   "execution_count": 4,
   "metadata": {},
   "outputs": [
    {
     "name": "stdout",
     "output_type": "stream",
     "text": [
      "epoch: 0, loss is 199.84312\n",
      "epoch: 1, loss is 143.35913\n",
      "epoch: 2, loss is 103.17047\n",
      "epoch: 3, loss is 74.55795\n",
      "epoch: 4, loss is 54.186066\n",
      "epoch: 5, loss is 39.67797\n",
      "epoch: 6, loss is 29.365372\n",
      "epoch: 7, loss is 21.987782\n",
      "epoch: 8, loss is 16.751898\n",
      "epoch: 9, loss is 13.022314\n",
      "epoch: 10, loss is 10.39259\n",
      "epoch: 11, loss is 8.48236\n",
      "epoch: 12, loss is 7.132765\n",
      "epoch: 13, loss is 6.177033\n",
      "epoch: 14, loss is 5.4937124\n",
      "epoch: 15, loss is 4.9959164\n",
      "epoch: 16, loss is 4.6429567\n",
      "epoch: 17, loss is 4.400611\n",
      "epoch: 18, loss is 4.226562\n",
      "epoch: 19, loss is 4.1051607\n"
     ]
    }
   ],
   "source": [
    "# Use samples to train the model for several epochs\n",
    "for epoch in range(20):\n",
    "    loss = train_step(ms.Tensor(x, ms.float32), ms.Tensor(y, ms.float32))\n",
    "    print('epoch: {0}, loss is {1}'.format(epoch, loss))"
   ]
  },
  {
   "cell_type": "code",
   "execution_count": 5,
   "metadata": {},
   "outputs": [
    {
     "name": "stdout",
     "output_type": "stream",
     "text": [
      "The true linear function is y = -5 * x + 0.1\n",
      "The trained linear model is y = -4.841301441192627 * x + 0.12395425140857697\n",
      "x = -10, predicted y = [[48.522392]]\n",
      "x = -5, predicted y = [[24.323174]]\n",
      "x = 0, predicted y = [[0.12395425]]\n",
      "x = 5, predicted y = [[-24.075264]]\n",
      "x = 10, predicted y = [[-48.274483]]\n"
     ]
    }
   ],
   "source": [
    "# After training a certain epochs, the model obtained is very close to the real linear function.\n",
    "wb = [x.default_input.asnumpy() for x in net.trainable_params()]\n",
    "w, b = np.squeeze(wb[0]), np.squeeze(wb[1])\n",
    "print('The true linear function is y = -5 * x + 0.1')\n",
    "print('The trained linear model is y = {0} * x + {1}'.format(w, b))\n",
    "\n",
    "for i in range(-10, 11, 5):\n",
    "    print('x = {0}, predicted y = {1}'.format(i, net(ms.Tensor([[i]], ms.float32))))"
   ]
  },
  {
   "cell_type": "code",
   "execution_count": 6,
   "metadata": {},
   "outputs": [
    {
     "data": {
      "text/plain": [
       "<matplotlib.legend.Legend at 0xffff20b8d750>"
      ]
     },
     "execution_count": 6,
     "metadata": {},
     "output_type": "execute_result"
    },
    {
     "data": {
      "image/png": "[encoded data removed]",
      "text/plain": [
       "<Figure size 432x288 with 1 Axes>"
      ]
     },
     "metadata": {
      "needs_background": "light"
     },
     "output_type": "display_data"
    }
   ],
   "source": [
    "# Plot the samples data,the true linear function and the trained model we obtained \n",
    "from matplotlib import pyplot as plt\n",
    "plt.scatter(x, y, label='Samples')\n",
    "plt.plot(x, w * x +  b, c='r', label='True function')\n",
    "plt.plot(x, -5 * x +  0.1, c='b', label='Trained model')\n",
    "plt.legend()"
   ]
  },
  {
   "cell_type": "code",
   "execution_count": null,
   "metadata": {},
   "outputs": [],
   "source": []
  }
 ],
 "metadata": {
  "kernelspec": {
   "display_name": "MindSpore-0.5.0-python3.7-aarch64",
   "language": "python",
   "name": "mindspore-0.5.0"
  },
  "language_info": {
   "codemirror_mode": {
    "name": "ipython",
    "version": 3
   },
   "file_extension": ".py",
   "mimetype": "text/x-python",
   "name": "python",
   "nbconvert_exporter": "python",
   "pygments_lexer": "ipython3",
   "version": "3.7.6"
  }
 },
 "nbformat": 4,
 "nbformat_minor": 4
}
