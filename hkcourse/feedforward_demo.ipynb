{
 "cells": [
  {
   "cell_type": "code",
   "execution_count": 1,
   "metadata": {},
   "outputs": [],
   "source": [
    "####################### import library ##########################\n",
    "#################################################################"
   ]
  },
  {
   "cell_type": "code",
   "execution_count": 2,
   "metadata": {},
   "outputs": [
    {
     "name": "stderr",
     "output_type": "stream",
     "text": [
      "INFO:root:Using MoXing-v1.17.3-43fbf97f\n",
      "INFO:root:Using OBS-Python-SDK-3.20.7\n"
     ]
    }
   ],
   "source": [
    "import os\n",
    "import struct\n",
    "import sys\n",
    "from easydict import EasyDict as edict\n",
    "\n",
    "import matplotlib.pyplot as plt\n",
    "import numpy as np\n",
    "\n",
    "import mindspore\n",
    "import mindspore.dataset as ds\n",
    "import mindspore.nn as nn\n",
    "from mindspore import context\n",
    "from mindspore.nn.metrics import Accuracy\n",
    "from mindspore.train import Model\n",
    "from mindspore.train.callback import ModelCheckpoint, CheckpointConfig, LossMonitor, TimeMonitor\n",
    "from mindspore import Tensor\n",
    "import moxing\n",
    "# import argparse\n",
    "\n",
    "context.set_context(mode=context.GRAPH_MODE, device_target='Ascend')\n",
    "# context.set_context(mode=context.GRAPH_MODE, device_target='GPU')\n",
    "\n",
    "# parser = argparse.ArgumentParser()\n",
    "# parser.add_argument('--data_url', required=True, default=None, help='Location of data.')\n",
    "# parser.add_argument('--train_url', required=True, default=None, help='Location of training outputs.')\n",
    "# args, unknown = parser.parse_known_args()\n",
    "\n",
    "\n",
    "# # copy dataset from your own OBS bucket.\n",
    "# moxing.file.copy_parallel(src_url=args.data_url, dst_url='Fashion-MNIST')\n",
    "moxing.file.copy_parallel(src_url='obs://feedforward-demo2/feedforward/fashion-mnist', dst_url='Fashion-MNIST')"
   ]
  },
  {
   "cell_type": "code",
   "execution_count": 3,
   "metadata": {},
   "outputs": [],
   "source": [
    "####################### default config ##########################\n",
    "#################################################################"
   ]
  },
  {
   "cell_type": "code",
   "execution_count": 4,
   "metadata": {},
   "outputs": [],
   "source": [
    "cfg = edict({\n",
    "    'train_size': 60000,  # size of training set\n",
    "    'test_size': 10000,  # size of test set\n",
    "    'channel': 1,  # image channel\n",
    "    'image_height': 28,  # image height\n",
    "    'image_width': 28,  # image weidth\n",
    "    'batch_size': 60,\n",
    "    'num_classes': 10,  # category numbers\n",
    "    'lr': 0.001,  # learning rate\n",
    "    'epoch_size': 20,  # epoch size\n",
    "    'data_dir_train': os.path.join('Fashion-MNIST', 'train'),\n",
    "    'data_dir_test': os.path.join('Fashion-MNIST', 'test'),\n",
    "    'save_checkpoint_steps': 1,  # save frequency\n",
    "    'keep_checkpoint_max': 3,  # max saving number of checkpoints\n",
    "    'output_directory': './model_fashion',  # path to save checkpoint\n",
    "    'output_prefix': \"checkpoint_fashion_forward\"  # name of checkpoint\n",
    "})"
   ]
  },
  {
   "cell_type": "code",
   "execution_count": 5,
   "metadata": {},
   "outputs": [],
   "source": [
    "####################### read binary dataset #####################\n",
    "#################################################################"
   ]
  },
  {
   "cell_type": "code",
   "execution_count": 6,
   "metadata": {},
   "outputs": [],
   "source": [
    "def read_image(file_name):\n",
    "    '''\n",
    "    :param file_name: file path\n",
    "    :return:  tran/test data\n",
    "    below is image format\n",
    "    [offset] [type]          [value]          [description]\n",
    "    0000     32 bit integer  0x00000803(2051) magic number\n",
    "    0004     32 bit integer  60000            number of images\n",
    "    0008     32 bit integer  28               number of rows\n",
    "    0012     32 bit integer  28               number of columns\n",
    "    0016     unsigned byte   ??               pixel\n",
    "    0017     unsigned byte   ??               pixel\n",
    "    ........\n",
    "    xxxx     unsigned byte   ??               pixel\n",
    "    '''\n",
    "    file_handle = open(file_name, \"rb\")  # open the file\n",
    "    file_content = file_handle.read()  # read to buffer\n",
    "    head = struct.unpack_from('>IIII', file_content, 0)  # extract top 4 integers，return tuple\n",
    "    offset = struct.calcsize('>IIII')\n",
    "    imgNum = head[1]  # number of image\n",
    "    width = head[2]  # width\n",
    "    height = head[3]  # height\n",
    "    bits = imgNum * width * height  # data includes 60000*28*28 pixels\n",
    "    bitsString = '>' + str(bits) + 'B'  # format：'>47040000B'\n",
    "    imgs = struct.unpack_from(bitsString, file_content, offset)  # get data，return a tuple\n",
    "    imgs_array = np.array(imgs).reshape((imgNum, width * height))  # reshape the data to [image numbers，image pixels] two-dimensional array\n",
    "    return imgs_array"
   ]
  },
  {
   "cell_type": "code",
   "execution_count": 7,
   "metadata": {},
   "outputs": [],
   "source": [
    "def read_label(file_name):\n",
    "    '''\n",
    "    :param file_name:\n",
    "    :return:\n",
    "    标签的格式如下：\n",
    "    [offset] [type]          [value]          [description]\n",
    "    0000     32 bit integer  0x00000801(2049) magic number (MSB first)\n",
    "    0004     32 bit integer  60000            number of items\n",
    "    0008     unsigned byte   ??               label\n",
    "    0009     unsigned byte   ??               label\n",
    "    ........\n",
    "    xxxx     unsigned byte   ??               label\n",
    "    The labels values are 0 to 9.\n",
    "    '''\n",
    "    file_handle = open(file_name, \"rb\")  # open the file\n",
    "    file_content = file_handle.read()  # read to buffer\n",
    "    head = struct.unpack_from('>II', file_content, 0)  # extract top 2 integers，return tuple\n",
    "    offset = struct.calcsize('>II')\n",
    "    labelNum = head[1]  # number of label\n",
    "    bitsString = '>' + str(labelNum) + 'B'  # format：'>47040000B'\n",
    "    label = struct.unpack_from(bitsString, file_content, offset)  # get data，return a tuple\n",
    "    return np.array(label)"
   ]
  },
  {
   "cell_type": "code",
   "execution_count": 8,
   "metadata": {},
   "outputs": [],
   "source": [
    "def get_data():\n",
    "    # file paths\n",
    "    train_image = os.path.join(cfg.data_dir_train, 'train-images-idx3-ubyte')\n",
    "    test_image = os.path.join(cfg.data_dir_test, \"t10k-images-idx3-ubyte\")\n",
    "    train_label = os.path.join(cfg.data_dir_train, \"train-labels-idx1-ubyte\")\n",
    "    test_label = os.path.join(cfg.data_dir_test, \"t10k-labels-idx1-ubyte\")\n",
    "    # load data\n",
    "    train_x = read_image(train_image)\n",
    "    test_x = read_image(test_image)\n",
    "    train_y = read_label(train_label)\n",
    "    test_y = read_label(test_label)\n",
    "    return train_x, train_y, test_x, test_y"
   ]
  },
  {
   "cell_type": "code",
   "execution_count": 9,
   "metadata": {},
   "outputs": [],
   "source": [
    "###################### sample visualization #####################\n",
    "#################################################################"
   ]
  },
  {
   "cell_type": "code",
   "execution_count": 10,
   "metadata": {},
   "outputs": [
    {
     "name": "stderr",
     "output_type": "stream",
     "text": [
      "/home/ma-user/miniconda3/envs/Mindspore-0.5.0/lib/python3.7/site-packages/ipykernel/__main__.py:6: DeprecationWarning: Numeric-style type codes are deprecated and will result in an error in the future.\n",
      "/home/ma-user/miniconda3/envs/Mindspore-0.5.0/lib/python3.7/site-packages/ipykernel/__main__.py:7: DeprecationWarning: Numeric-style type codes are deprecated and will result in an error in the future.\n"
     ]
    },
    {
     "name": "stdout",
     "output_type": "stream",
     "text": [
      "total number of train set: 60000\n",
      "total number of test set: 10000\n",
      "channel/height/width: (1, 28, 28)\n",
      "ground truth label: 9\n"
     ]
    },
    {
     "data": {
      "image/png": "[encoded data removed]",
      "text/plain": [
       "<Figure size 432x288 with 2 Axes>"
      ]
     },
     "metadata": {
      "needs_background": "light"
     },
     "output_type": "display_data"
    }
   ],
   "source": [
    "train_x, train_y, test_x, test_y = get_data()\n",
    "train_x = train_x.reshape(-1, 1, cfg.image_height, cfg.image_width)\n",
    "test_x = test_x.reshape(-1, 1, cfg.image_height, cfg.image_width)\n",
    "train_x = train_x / 255.0\n",
    "test_x = test_x / 255.0\n",
    "train_x = train_x.astype('Float32')\n",
    "test_x = test_x.astype('Float32')\n",
    "train_y = train_y.astype('int32')\n",
    "test_y = test_y.astype('int32')\n",
    "print('total number of train set:', train_x.shape[0])\n",
    "print('total number of test set:', test_y.shape[0])\n",
    "print('channel/height/width:', train_x.shape[1:])\n",
    "print('ground truth label:', train_y[0])  # ten classes, labeled as 0 - 9\n",
    "\n",
    "plt.figure()\n",
    "plt.imshow(train_x[0,0,...])\n",
    "plt.colorbar()\n",
    "plt.grid(False)\n",
    "plt.show()"
   ]
  },
  {
   "cell_type": "code",
   "execution_count": 11,
   "metadata": {},
   "outputs": [],
   "source": [
    "###################### Mindspore Dataset ########################\n",
    "#################################################################"
   ]
  },
  {
   "cell_type": "code",
   "execution_count": 12,
   "metadata": {},
   "outputs": [],
   "source": [
    "# convert to mindspore Dataset\n",
    "XY_train = list(zip(train_x, train_y))\n",
    "ds_train = ds.GeneratorDataset(XY_train, ['x', 'y'])\n",
    "ds_train.set_dataset_size(cfg.train_size)\n",
    "ds_train = ds_train.shuffle(buffer_size=cfg.train_size).batch(cfg.batch_size, drop_remainder=True).repeat(\n",
    "    cfg.epoch_size)\n",
    "XY_test = list(zip(test_x, test_y))\n",
    "ds_test = ds.GeneratorDataset(XY_test, ['x', 'y'])\n",
    "ds_test.set_dataset_size(cfg.test_size)\n",
    "ds_test = ds_test.shuffle(buffer_size=cfg.test_size).batch(cfg.batch_size, drop_remainder=True).repeat(cfg.epoch_size)"
   ]
  },
  {
   "cell_type": "code",
   "execution_count": 13,
   "metadata": {},
   "outputs": [],
   "source": [
    "#### Define, construct and train feedforward neural network #####\n",
    "#################################################################"
   ]
  },
  {
   "cell_type": "code",
   "execution_count": 14,
   "metadata": {},
   "outputs": [],
   "source": [
    "# define feedforward neural network\n",
    "class Forward_fashion(nn.Cell):\n",
    "    def __init__(self, num_class=10):  # ten classes, number of channel is 1\n",
    "        super(Forward_fashion, self).__init__()\n",
    "        self.num_class = num_class\n",
    "        self.flatten = nn.Flatten()\n",
    "        self.fc1 = nn.Dense(cfg.channel * cfg.image_height * cfg.image_width, 128)\n",
    "        self.relu = nn.ReLU()\n",
    "        self.fc2 = nn.Dense(128, self.num_class)\n",
    "\n",
    "    def construct(self, x):\n",
    "        x = self.flatten(x)\n",
    "        x = self.fc1(x)\n",
    "        x = self.relu(x)\n",
    "        x = self.fc2(x)\n",
    "        return x"
   ]
  },
  {
   "cell_type": "code",
   "execution_count": 15,
   "metadata": {},
   "outputs": [
    {
     "name": "stdout",
     "output_type": "stream",
     "text": [
      "============== Starting Training ==============\n",
      "epoch: 1 step 1000, loss is 0.6608248949050903\n",
      "Epoch time: 11269.183, per step time: 11.269, avg loss: 0.661\n",
      "************************************************************\n",
      "epoch: 2 step 1000, loss is 0.4753102660179138\n",
      "Epoch time: 2213.876, per step time: 2.214, avg loss: 0.475\n",
      "************************************************************\n",
      "epoch: 3 step 1000, loss is 0.3378944993019104\n",
      "Epoch time: 2039.513, per step time: 2.040, avg loss: 0.338\n",
      "************************************************************\n",
      "epoch: 4 step 1000, loss is 0.2762758731842041\n",
      "Epoch time: 2003.875, per step time: 2.004, avg loss: 0.276\n",
      "************************************************************\n",
      "epoch: 5 step 1000, loss is 0.14267194271087646\n",
      "Epoch time: 1918.509, per step time: 1.919, avg loss: 0.143\n",
      "************************************************************\n",
      "epoch: 6 step 1000, loss is 0.4918135106563568\n",
      "Epoch time: 2139.842, per step time: 2.140, avg loss: 0.492\n",
      "************************************************************\n",
      "epoch: 7 step 1000, loss is 0.3061875104904175\n",
      "Epoch time: 1978.449, per step time: 1.978, avg loss: 0.306\n",
      "************************************************************\n",
      "epoch: 8 step 1000, loss is 0.39561039209365845\n",
      "Epoch time: 1982.495, per step time: 1.982, avg loss: 0.396\n",
      "************************************************************\n",
      "epoch: 9 step 1000, loss is 0.3172822892665863\n",
      "Epoch time: 2267.768, per step time: 2.268, avg loss: 0.317\n",
      "************************************************************\n",
      "epoch: 10 step 1000, loss is 0.32743799686431885\n",
      "Epoch time: 2399.588, per step time: 2.400, avg loss: 0.327\n",
      "************************************************************\n",
      "epoch: 11 step 1000, loss is 0.2537311017513275\n",
      "Epoch time: 2188.999, per step time: 2.189, avg loss: 0.254\n",
      "************************************************************\n",
      "epoch: 12 step 1000, loss is 0.18908870220184326\n",
      "Epoch time: 1943.995, per step time: 1.944, avg loss: 0.189\n",
      "************************************************************\n",
      "epoch: 13 step 1000, loss is 0.150579571723938\n",
      "Epoch time: 1940.073, per step time: 1.940, avg loss: 0.151\n",
      "************************************************************\n",
      "epoch: 14 step 1000, loss is 0.24803629517555237\n",
      "Epoch time: 2267.415, per step time: 2.267, avg loss: 0.248\n",
      "************************************************************\n",
      "epoch: 15 step 1000, loss is 0.2631933391094208\n",
      "Epoch time: 2224.931, per step time: 2.225, avg loss: 0.263\n",
      "************************************************************\n",
      "epoch: 16 step 1000, loss is 0.27293431758880615\n",
      "Epoch time: 2132.496, per step time: 2.132, avg loss: 0.273\n",
      "************************************************************\n",
      "epoch: 17 step 1000, loss is 0.2517269551753998\n",
      "Epoch time: 1588.175, per step time: 1.588, avg loss: 0.252\n",
      "************************************************************\n",
      "epoch: 18 step 1000, loss is 0.20835763216018677\n",
      "Epoch time: 1919.918, per step time: 1.920, avg loss: 0.208\n",
      "************************************************************\n",
      "epoch: 19 step 1000, loss is 0.16561119258403778\n",
      "Epoch time: 1927.401, per step time: 1.927, avg loss: 0.166\n",
      "************************************************************\n",
      "epoch: 20 step 1000, loss is 0.273701936006546\n",
      "Epoch time: 1965.501, per step time: 1.966, avg loss: 0.274\n",
      "************************************************************\n"
     ]
    }
   ],
   "source": [
    "# construct network\n",
    "network = Forward_fashion(cfg.num_classes)\n",
    "# define loss function and optimizer\n",
    "net_loss = nn.SoftmaxCrossEntropyWithLogits(is_grad=False, sparse=True, reduction=\"mean\")\n",
    "net_opt = nn.Adam(network.trainable_params(), cfg.lr)\n",
    "# train model\n",
    "model = Model(network, loss_fn=net_loss, optimizer=net_opt, metrics={\"acc\"})\n",
    "loss_cb = LossMonitor(per_print_times=int(cfg.train_size / cfg.batch_size))\n",
    "config_ck = CheckpointConfig(save_checkpoint_steps=cfg.save_checkpoint_steps,\n",
    "                             keep_checkpoint_max=cfg.keep_checkpoint_max)\n",
    "ckpoint_cb = ModelCheckpoint(prefix=cfg.output_prefix, directory=cfg.output_directory, config=config_ck)\n",
    "print(\"============== Starting Training ==============\")\n",
    "model.train(cfg.epoch_size, ds_train, callbacks=[ckpoint_cb, loss_cb], dataset_sink_mode=True)"
   ]
  },
  {
   "cell_type": "code",
   "execution_count": 16,
   "metadata": {},
   "outputs": [],
   "source": [
    "################ Model evaluation and prediction ################\n",
    "#################################################################"
   ]
  },
  {
   "cell_type": "code",
   "execution_count": 17,
   "metadata": {},
   "outputs": [
    {
     "name": "stdout",
     "output_type": "stream",
     "text": [
      "{'acc': 0.8860441767068273}\n",
      "No.0 sample predict result： 1    ground truth label： 1\n",
      "No.1 sample predict result： 9    ground truth label： 9\n",
      "No.2 sample predict result： 2    ground truth label： 2\n",
      "No.3 sample predict result： 1    ground truth label： 1\n",
      "No.4 sample predict result： 9    ground truth label： 9\n",
      "No.5 sample predict result： 7    ground truth label： 9\n",
      "No.6 sample predict result： 8    ground truth label： 8\n",
      "No.7 sample predict result： 9    ground truth label： 9\n",
      "No.8 sample predict result： 8    ground truth label： 8\n",
      "No.9 sample predict result： 1    ground truth label： 1\n",
      "No.10 sample predict result： 4    ground truth label： 4\n",
      "No.11 sample predict result： 2    ground truth label： 2\n",
      "No.12 sample predict result： 9    ground truth label： 9\n",
      "No.13 sample predict result： 3    ground truth label： 3\n",
      "No.14 sample predict result： 9    ground truth label： 9\n"
     ]
    }
   ],
   "source": [
    "# evaluation by test set\n",
    "metric = model.eval(ds_test)\n",
    "print(metric)\n",
    "\n",
    "# predict\n",
    "test_ = ds_test.create_dict_iterator().get_next()\n",
    "test = Tensor(test_['x'], mindspore.float32)\n",
    "predictions = model.predict(test)\n",
    "softmax = nn.Softmax()\n",
    "predictions = softmax(predictions)\n",
    "predictions = predictions.asnumpy()\n",
    "for i in range(15):\n",
    "    p_np = predictions[i, :]\n",
    "    p_list = p_np.tolist()\n",
    "    print('No.' + str(i) + ' sample predict result：', p_list.index(max(p_list)), '   ground truth label：', test_['y'][i])\n",
    "\n",
    "moxing.file.copy_parallel(src_url='model_fashion', dst_url='obs://feedforward-demo2/feedforward/model_fashion')"
   ]
  },
  {
   "cell_type": "code",
   "execution_count": 18,
   "metadata": {},
   "outputs": [],
   "source": [
    "################# Predicted result visualization ################\n",
    "#################################################################"
   ]
  },
  {
   "cell_type": "code",
   "execution_count": 19,
   "metadata": {},
   "outputs": [],
   "source": [
    "# input: predicted result, ground truth label, image\n",
    "# correct predicted result: blue, wrong predicted result: red\n",
    "def plot_image(predictions_array, true_label, img):\n",
    "    plt.grid(False)\n",
    "    plt.xticks([])\n",
    "    plt.yticks([])\n",
    "    # plot corresponding image\n",
    "    plt.imshow(img, cmap=plt.cm.binary)\n",
    "    # show the color, indicating correct(blue) or wrong(red) predicted result\n",
    "    predicted_label = np.argmax(predictions_array)\n",
    "    if predicted_label == true_label:\n",
    "        color = 'blue'\n",
    "    else:\n",
    "        color = 'red'\n",
    "    # format of display\n",
    "    plt.xlabel('{},{:2.0f}% ({})'.format(class_names[predicted_label],\n",
    "                                         100 * np.max(predictions_array),\n",
    "                                         class_names[true_label]), color=color)"
   ]
  },
  {
   "cell_type": "code",
   "execution_count": 20,
   "metadata": {},
   "outputs": [],
   "source": [
    "# histogram shows the correct(blue) or wrong(red) predicted result\n",
    "def plot_value_array(predictions_array, true_label):\n",
    "    plt.grid(False)\n",
    "    plt.xticks([])\n",
    "    plt.yticks([])\n",
    "    this_plot = plt.bar(range(10), predictions_array, color='#777777')\n",
    "    plt.ylim([0, 1])\n",
    "    predicted_label = np.argmax(predictions_array)\n",
    "    this_plot[predicted_label].set_color('red')\n",
    "    this_plot[true_label].set_color('blue')"
   ]
  },
  {
   "cell_type": "code",
   "execution_count": 21,
   "metadata": {},
   "outputs": [
    {
     "data": {
      "image/png": "[encoded data removed]",
      "text/plain": [
       "<Figure size 864x720 with 30 Axes>"
      ]
     },
     "metadata": {},
     "output_type": "display_data"
    }
   ],
   "source": [
    "# predict and show 15 images' labels\n",
    "num_rows = 5\n",
    "num_cols = 3\n",
    "num_images = num_rows * num_cols\n",
    "plt.figure(figsize=(2 * 2 * num_cols, 2 * num_rows))\n",
    "class_names = ['T-shirt/top', 'Trouser', 'Pullover', 'Dress', 'Coat',\n",
    "               'Sandal', 'Shirt', 'Sneaker', 'Bag', 'Ankle boot']\n",
    "for i in range(num_images):\n",
    "    plt.subplot(num_rows, 2 * num_cols, 2 * i + 1)\n",
    "    pred_np_ = predictions[i, :]  \n",
    "    plot_image(pred_np_, test_['y'][i], test_['x'][i, 0, ...])\n",
    "    plt.subplot(num_rows, 2 * num_cols, 2 * i + 2)\n",
    "    plot_value_array(pred_np_, test_['y'][i])\n",
    "plt.show()"
   ]
  }
 ],
 "metadata": {
  "kernelspec": {
   "display_name": "MindSpore-0.5.0-python3.7-aarch64",
   "language": "python",
   "name": "mindspore-0.5.0"
  },
  "language_info": {
   "codemirror_mode": {
    "name": "ipython",
    "version": 3
   },
   "file_extension": ".py",
   "mimetype": "text/x-python",
   "name": "python",
   "nbconvert_exporter": "python",
   "pygments_lexer": "ipython3",
   "version": "3.7.6"
  }
 },
 "nbformat": 4,
 "nbformat_minor": 4
}
